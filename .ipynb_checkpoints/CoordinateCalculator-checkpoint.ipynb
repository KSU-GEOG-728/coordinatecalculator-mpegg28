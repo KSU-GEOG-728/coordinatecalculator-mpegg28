{
 "cells": [
  {
   "cell_type": "markdown",
   "id": "0d0f6dad",
   "metadata": {},
   "source": [
    "# Geographic Coordinate Converter\n",
    "\n",
    "Converts a geographic coordinate in DDMMSS format to DD"
   ]
  },
  {
   "cell_type": "markdown",
   "id": "182a98fa",
   "metadata": {},
   "source": [
    "Step 1 - Use the Python input function to prompt a user to enter a geographic coordinate in DDMMSS format (e.g., 391120)."
   ]
  },
  {
   "cell_type": "code",
   "execution_count": 37,
   "id": "1ee42787",
   "metadata": {},
   "outputs": [
    {
     "name": "stdout",
     "output_type": "stream",
     "text": [
      "Please enter a coordinate in DDMMSS format: 391120\n"
     ]
    }
   ],
   "source": [
    "x = input(\"Please enter a coordinate in DDMMSS format: \")"
   ]
  },
  {
   "cell_type": "markdown",
   "id": "9f749444",
   "metadata": {},
   "source": [
    "Step 2 - Determine the data type of x and print its value before moving forward."
   ]
  },
  {
   "cell_type": "code",
   "execution_count": 10,
   "id": "74ed15af",
   "metadata": {},
   "outputs": [
    {
     "data": {
      "text/plain": [
       "str"
      ]
     },
     "execution_count": 10,
     "metadata": {},
     "output_type": "execute_result"
    }
   ],
   "source": [
    "type(x)"
   ]
  },
  {
   "cell_type": "code",
   "execution_count": 11,
   "id": "86973bd5",
   "metadata": {},
   "outputs": [
    {
     "name": "stdout",
     "output_type": "stream",
     "text": [
      "115248\n"
     ]
    }
   ],
   "source": [
    "print(x)"
   ]
  },
  {
   "cell_type": "markdown",
   "id": "6179aafb",
   "metadata": {},
   "source": [
    "Step 3 - Extract the Seconds from the Coordinate to convert them into Minutes"
   ]
  },
  {
   "cell_type": "code",
   "execution_count": 39,
   "id": "a498b110",
   "metadata": {},
   "outputs": [],
   "source": [
    "# Extracts the Seconds Portion \n",
    "extract_2 = x[-2:]\n",
    "\n",
    "# Changes Seconds from String to Float\n",
    "extract_2 = float(extract_2)\n",
    "\n",
    "#Seconds is converted to Minutes\n",
    "minutes = (extract_2 / 60)\n"
   ]
  },
  {
   "cell_type": "markdown",
   "id": "5d4507fc",
   "metadata": {},
   "source": [
    "Step 4 - Add the convert Minutes to Mintues and convert to Degrees"
   ]
  },
  {
   "cell_type": "code",
   "execution_count": 40,
   "id": "399c0541",
   "metadata": {},
   "outputs": [],
   "source": [
    "#Extracts the imput Minute Portion of the Coordinate\n",
    "extract_minutes = x[2:4]\n",
    "\n",
    "#Extract Minutes is converted has a float data type\n",
    "extract_minutes = float(extract_minutes)\n",
    "\n",
    "# Added covert minutes to minutes\n",
    "added_minutes = extract_minutes + minutes\n",
    "\n",
    "#Convert to Degrees\n",
    "degrees = added_minutes / 60"
   ]
  },
  {
   "cell_type": "markdown",
   "id": "faad5d8a",
   "metadata": {},
   "source": [
    "Step 5 - Add the Converted Degrees to the input Degrees"
   ]
  },
  {
   "cell_type": "code",
   "execution_count": 41,
   "id": "3bdf7105",
   "metadata": {},
   "outputs": [
    {
     "name": "stdout",
     "output_type": "stream",
     "text": [
      "Your final result is: 39.19 degrees.\n"
     ]
    }
   ],
   "source": [
    "# Extract the input Degree Coordinate\n",
    "extract_degree = x[0:2]\n",
    "\n",
    "extract_degree = float(extract_degree)\n",
    "\n",
    "# Resulting DD Coordinate\n",
    "DD = extract_degree + degrees\n",
    "DD = round(DD, 2)\n",
    "\n",
    "# Final Statement\n",
    "print(f\"Your final result is: {DD} degrees.\")"
   ]
  }
 ],
 "metadata": {
  "kernelspec": {
   "display_name": "Python 3",
   "language": "python",
   "name": "python3"
  },
  "language_info": {
   "codemirror_mode": {
    "name": "ipython",
    "version": 3
   },
   "file_extension": ".py",
   "mimetype": "text/x-python",
   "name": "python",
   "nbconvert_exporter": "python",
   "pygments_lexer": "ipython3",
   "version": "3.9.11"
  }
 },
 "nbformat": 4,
 "nbformat_minor": 5
}
